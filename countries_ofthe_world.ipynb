{
  "nbformat": 4,
  "nbformat_minor": 0,
  "metadata": {
    "colab": {
      "name": "countries_ofthe_world.ipynb",
      "provenance": [],
      "authorship_tag": "ABX9TyPer0oZI8gmKeruRwcJNFGO",
      "include_colab_link": true
    },
    "kernelspec": {
      "name": "python3",
      "display_name": "Python 3"
    },
    "language_info": {
      "name": "python"
    }
  },
  "cells": [
    {
      "cell_type": "markdown",
      "metadata": {
        "id": "view-in-github",
        "colab_type": "text"
      },
      "source": [
        "<a href=\"https://colab.research.google.com/github/giovanni-ollari/esercitazioni/blob/main/countries_ofthe_world.ipynb\" target=\"_parent\"><img src=\"https://colab.research.google.com/assets/colab-badge.svg\" alt=\"Open In Colab\"/></a>"
      ]
    },
    {
      "cell_type": "code",
      "execution_count": 15,
      "metadata": {
        "id": "Tzaw8j4xByW6"
      },
      "outputs": [],
      "source": [
        "import pandas as pd\n",
        "import numpy as np\n",
        "import matplotlib.pyplot as plt\n",
        "import seaborn as sns\n",
        "from sklearn.preprocessing import StandardScaler\n",
        "from sklearn.cluster import DBSCAN\n"
      ]
    },
    {
      "cell_type": "code",
      "source": [
        "df = pd.read_csv(\"countries_of_the_world.csv\")"
      ],
      "metadata": {
        "id": "0xBFU-9TCHrs"
      },
      "execution_count": 3,
      "outputs": []
    },
    {
      "cell_type": "code",
      "source": [
        "df.info()"
      ],
      "metadata": {
        "colab": {
          "base_uri": "https://localhost:8080/"
        },
        "id": "oH2MlaV2C03a",
        "outputId": "d0e11928-11e5-4d78-f4fa-4f503cca2a12"
      },
      "execution_count": 5,
      "outputs": [
        {
          "output_type": "stream",
          "name": "stdout",
          "text": [
            "<class 'pandas.core.frame.DataFrame'>\n",
            "RangeIndex: 227 entries, 0 to 226\n",
            "Data columns (total 21 columns):\n",
            " #   Column                              Non-Null Count  Dtype  \n",
            "---  ------                              --------------  -----  \n",
            " 0   Unnamed: 0                          227 non-null    int64  \n",
            " 1   Country                             227 non-null    object \n",
            " 2   Region                              227 non-null    object \n",
            " 3   Population                          227 non-null    int64  \n",
            " 4   Area (sq. mi.)                      227 non-null    int64  \n",
            " 5   Pop. Density (per sq. mi.)          227 non-null    float64\n",
            " 6   Coastline (coast/area ratio)        227 non-null    float64\n",
            " 7   Net migration                       224 non-null    float64\n",
            " 8   Infant mortality (per 1000 births)  224 non-null    float64\n",
            " 9   GDP ($ per capita)                  226 non-null    float64\n",
            " 10  Literacy (%)                        209 non-null    float64\n",
            " 11  Phones (per 1000)                   223 non-null    float64\n",
            " 12  Arable (%)                          225 non-null    float64\n",
            " 13  Crops (%)                           225 non-null    float64\n",
            " 14  Other (%)                           225 non-null    float64\n",
            " 15  Climate                             205 non-null    float64\n",
            " 16  Birthrate                           224 non-null    float64\n",
            " 17  Deathrate                           223 non-null    float64\n",
            " 18  Agriculture                         212 non-null    float64\n",
            " 19  Industry                            211 non-null    float64\n",
            " 20  Service                             212 non-null    float64\n",
            "dtypes: float64(16), int64(3), object(2)\n",
            "memory usage: 37.4+ KB\n"
          ]
        }
      ]
    },
    {
      "cell_type": "code",
      "source": [
        "df = df.set_index('Country')"
      ],
      "metadata": {
        "id": "QyUPRSJIDisK"
      },
      "execution_count": 6,
      "outputs": []
    },
    {
      "cell_type": "code",
      "source": [
        "df = df.drop('Unnamed: 0', axis=1)\n",
        "df = df.drop('Region', axis=1)"
      ],
      "metadata": {
        "id": "wn02GeGxC81K"
      },
      "execution_count": 7,
      "outputs": []
    },
    {
      "cell_type": "code",
      "source": [
        "df= df.fillna(df.mean())"
      ],
      "metadata": {
        "id": "hNmTkH20D-8d"
      },
      "execution_count": 8,
      "outputs": []
    },
    {
      "cell_type": "code",
      "source": [
        "df.mean()"
      ],
      "metadata": {
        "colab": {
          "base_uri": "https://localhost:8080/"
        },
        "id": "QX0QjqRRFrvT",
        "outputId": "78216a3e-279f-4339-e610-f65e6fa2bc0c"
      },
      "execution_count": 13,
      "outputs": [
        {
          "output_type": "execute_result",
          "data": {
            "text/plain": [
              "Population                            2.874028e+07\n",
              "Area (sq. mi.)                        5.982270e+05\n",
              "Pop. Density (per sq. mi.)            3.790471e+02\n",
              "Coastline (coast/area ratio)          2.116533e+01\n",
              "Net migration                         3.812500e-02\n",
              "Infant mortality (per 1000 births)    3.550696e+01\n",
              "GDP ($ per capita)                    9.689823e+03\n",
              "Literacy (%)                          8.283828e+01\n",
              "Phones (per 1000)                     2.360614e+02\n",
              "Arable (%)                            1.379711e+01\n",
              "Crops (%)                             4.564222e+00\n",
              "Other (%)                             8.163831e+01\n",
              "Climate                               2.139024e+00\n",
              "Birthrate                             2.211473e+01\n",
              "Deathrate                             9.241345e+00\n",
              "Agriculture                           1.508443e-01\n",
              "Industry                              2.827109e-01\n",
              "Service                               5.652830e-01\n",
              "dtype: float64"
            ]
          },
          "metadata": {},
          "execution_count": 13
        }
      ]
    },
    {
      "cell_type": "code",
      "source": [
        "X= df.copy()"
      ],
      "metadata": {
        "id": "4VAJtt3XC2qM"
      },
      "execution_count": 9,
      "outputs": []
    },
    {
      "cell_type": "code",
      "source": [
        "scaler = StandardScaler()\n",
        "X_scaled = scaler.fit_transform(X)\n",
        "X_scaled = pd.DataFrame(X_scaled, index=X.index, columns=X.columns)\n",
        "X_scaled.describe()"
      ],
      "metadata": {
        "colab": {
          "base_uri": "https://localhost:8080/",
          "height": 503
        },
        "id": "kFlSl0F9EQey",
        "outputId": "bad846d8-f99d-47a9-ee78-09f82a73470f"
      },
      "execution_count": 11,
      "outputs": [
        {
          "output_type": "execute_result",
          "data": {
            "text/plain": [
              "         Population  Area (sq. mi.)  Pop. Density (per sq. mi.)  \\\n",
              "count  2.270000e+02    2.270000e+02                2.270000e+02   \n",
              "mean   2.579924e-17    5.991292e-17                1.344984e-17   \n",
              "std    1.002210e+00    1.002210e+00                1.002210e+00   \n",
              "min   -2.442653e-01   -3.348897e-01               -2.288207e-01   \n",
              "25%   -2.406047e-01   -3.322891e-01               -2.112236e-01   \n",
              "50%   -2.036301e-01   -2.864116e-01               -1.812512e-01   \n",
              "75%   -9.557410e-02   -8.756252e-02               -1.140322e-01   \n",
              "max    1.092594e+01    9.223901e+00                9.593850e+00   \n",
              "\n",
              "       Coastline (coast/area ratio)  Net migration  \\\n",
              "count                  2.270000e+02   2.270000e+02   \n",
              "mean                  -1.858523e-17  -7.107017e-18   \n",
              "std                    1.002210e+00   1.002210e+00   \n",
              "min                   -2.934434e-01  -4.339274e+00   \n",
              "25%                   -2.920570e-01  -1.946193e-01   \n",
              "50%                   -2.833225e-01  -7.867312e-03   \n",
              "75%                   -1.500168e-01   1.943613e-01   \n",
              "max                    1.177769e+01   4.750696e+00   \n",
              "\n",
              "       Infant mortality (per 1000 births)  GDP ($ per capita)  Literacy (%)  \\\n",
              "count                        2.270000e+02        2.270000e+02  2.270000e+02   \n",
              "mean                         1.022188e-16        1.164022e-16 -6.631993e-16   \n",
              "std                          1.002210e+00        1.002210e+00  1.002210e+00   \n",
              "min                         -9.469807e-01       -9.185440e-01 -3.455644e+00   \n",
              "25%                         -7.780652e-01       -7.786108e-01 -3.410328e-01   \n",
              "50%                         -4.121528e-01       -4.087873e-01  3.952443e-01   \n",
              "75%                          5.652764e-01        6.007311e-01  7.925161e-01   \n",
              "max                          4.438359e+00        4.538852e+00  9.090492e-01   \n",
              "\n",
              "       Phones (per 1000)    Arable (%)     Crops (%)     Other (%)  \\\n",
              "count       2.270000e+02  2.270000e+02  2.270000e+02  2.270000e+02   \n",
              "mean        1.662889e-17 -1.105332e-16  7.336275e-18  2.401408e-16   \n",
              "std         1.002210e+00  1.002210e+00  1.002210e+00  1.002210e+00   \n",
              "min        -1.046102e+00 -1.065089e+00 -5.495068e-01 -3.012900e+00   \n",
              "25%        -8.762324e-01 -8.041651e-01 -5.266319e-01 -6.020592e-01   \n",
              "50%        -2.415496e-01 -2.522097e-01 -4.194809e-01  2.333622e-01   \n",
              "75%         6.512643e-01  4.788417e-01 -8.561380e-04  8.476886e-01   \n",
              "max         3.546146e+00  3.729589e+00  5.552082e+00  1.145185e+00   \n",
              "\n",
              "            Climate     Birthrate     Deathrate   Agriculture      Industry  \\\n",
              "count  2.270000e+02  2.270000e+02  2.270000e+02  2.270000e+02  2.270000e+02   \n",
              "mean  -1.171359e-16 -3.384468e-16  2.151974e-17 -3.338005e-17 -5.306573e-17   \n",
              "std    1.002210e+00  1.002210e+00  1.002210e+00  1.002210e+00  1.002210e+00   \n",
              "min   -1.717937e+00 -1.338237e+00 -1.408648e+00 -1.065812e+00 -1.975361e+00   \n",
              "25%   -2.096840e-01 -8.476167e-01 -6.619051e-01 -7.831865e-01 -6.219151e-01   \n",
              "50%   -2.096840e-01 -2.901958e-01 -2.171016e-01 -2.461977e-01 -5.345362e-03   \n",
              "75%    2.722213e-01  6.910456e-01  2.712703e-01  4.250384e-01  3.931692e-01   \n",
              "max    2.806822e+00  2.583117e+00  4.153928e+00  4.367667e+00  4.686600e+00   \n",
              "\n",
              "            Service  \n",
              "count  2.270000e+02  \n",
              "mean  -6.071991e-16  \n",
              "std    1.002210e+00  \n",
              "min   -3.147691e+00  \n",
              "25%   -7.616694e-01  \n",
              "50%    0.000000e+00  \n",
              "75%    6.643145e-01  \n",
              "max    2.431159e+00  "
            ],
            "text/html": [
              "\n",
              "  <div id=\"df-faf1eedc-3381-4d3c-b6eb-213c43452300\">\n",
              "    <div class=\"colab-df-container\">\n",
              "      <div>\n",
              "<style scoped>\n",
              "    .dataframe tbody tr th:only-of-type {\n",
              "        vertical-align: middle;\n",
              "    }\n",
              "\n",
              "    .dataframe tbody tr th {\n",
              "        vertical-align: top;\n",
              "    }\n",
              "\n",
              "    .dataframe thead th {\n",
              "        text-align: right;\n",
              "    }\n",
              "</style>\n",
              "<table border=\"1\" class=\"dataframe\">\n",
              "  <thead>\n",
              "    <tr style=\"text-align: right;\">\n",
              "      <th></th>\n",
              "      <th>Population</th>\n",
              "      <th>Area (sq. mi.)</th>\n",
              "      <th>Pop. Density (per sq. mi.)</th>\n",
              "      <th>Coastline (coast/area ratio)</th>\n",
              "      <th>Net migration</th>\n",
              "      <th>Infant mortality (per 1000 births)</th>\n",
              "      <th>GDP ($ per capita)</th>\n",
              "      <th>Literacy (%)</th>\n",
              "      <th>Phones (per 1000)</th>\n",
              "      <th>Arable (%)</th>\n",
              "      <th>Crops (%)</th>\n",
              "      <th>Other (%)</th>\n",
              "      <th>Climate</th>\n",
              "      <th>Birthrate</th>\n",
              "      <th>Deathrate</th>\n",
              "      <th>Agriculture</th>\n",
              "      <th>Industry</th>\n",
              "      <th>Service</th>\n",
              "    </tr>\n",
              "  </thead>\n",
              "  <tbody>\n",
              "    <tr>\n",
              "      <th>count</th>\n",
              "      <td>2.270000e+02</td>\n",
              "      <td>2.270000e+02</td>\n",
              "      <td>2.270000e+02</td>\n",
              "      <td>2.270000e+02</td>\n",
              "      <td>2.270000e+02</td>\n",
              "      <td>2.270000e+02</td>\n",
              "      <td>2.270000e+02</td>\n",
              "      <td>2.270000e+02</td>\n",
              "      <td>2.270000e+02</td>\n",
              "      <td>2.270000e+02</td>\n",
              "      <td>2.270000e+02</td>\n",
              "      <td>2.270000e+02</td>\n",
              "      <td>2.270000e+02</td>\n",
              "      <td>2.270000e+02</td>\n",
              "      <td>2.270000e+02</td>\n",
              "      <td>2.270000e+02</td>\n",
              "      <td>2.270000e+02</td>\n",
              "      <td>2.270000e+02</td>\n",
              "    </tr>\n",
              "    <tr>\n",
              "      <th>mean</th>\n",
              "      <td>2.579924e-17</td>\n",
              "      <td>5.991292e-17</td>\n",
              "      <td>1.344984e-17</td>\n",
              "      <td>-1.858523e-17</td>\n",
              "      <td>-7.107017e-18</td>\n",
              "      <td>1.022188e-16</td>\n",
              "      <td>1.164022e-16</td>\n",
              "      <td>-6.631993e-16</td>\n",
              "      <td>1.662889e-17</td>\n",
              "      <td>-1.105332e-16</td>\n",
              "      <td>7.336275e-18</td>\n",
              "      <td>2.401408e-16</td>\n",
              "      <td>-1.171359e-16</td>\n",
              "      <td>-3.384468e-16</td>\n",
              "      <td>2.151974e-17</td>\n",
              "      <td>-3.338005e-17</td>\n",
              "      <td>-5.306573e-17</td>\n",
              "      <td>-6.071991e-16</td>\n",
              "    </tr>\n",
              "    <tr>\n",
              "      <th>std</th>\n",
              "      <td>1.002210e+00</td>\n",
              "      <td>1.002210e+00</td>\n",
              "      <td>1.002210e+00</td>\n",
              "      <td>1.002210e+00</td>\n",
              "      <td>1.002210e+00</td>\n",
              "      <td>1.002210e+00</td>\n",
              "      <td>1.002210e+00</td>\n",
              "      <td>1.002210e+00</td>\n",
              "      <td>1.002210e+00</td>\n",
              "      <td>1.002210e+00</td>\n",
              "      <td>1.002210e+00</td>\n",
              "      <td>1.002210e+00</td>\n",
              "      <td>1.002210e+00</td>\n",
              "      <td>1.002210e+00</td>\n",
              "      <td>1.002210e+00</td>\n",
              "      <td>1.002210e+00</td>\n",
              "      <td>1.002210e+00</td>\n",
              "      <td>1.002210e+00</td>\n",
              "    </tr>\n",
              "    <tr>\n",
              "      <th>min</th>\n",
              "      <td>-2.442653e-01</td>\n",
              "      <td>-3.348897e-01</td>\n",
              "      <td>-2.288207e-01</td>\n",
              "      <td>-2.934434e-01</td>\n",
              "      <td>-4.339274e+00</td>\n",
              "      <td>-9.469807e-01</td>\n",
              "      <td>-9.185440e-01</td>\n",
              "      <td>-3.455644e+00</td>\n",
              "      <td>-1.046102e+00</td>\n",
              "      <td>-1.065089e+00</td>\n",
              "      <td>-5.495068e-01</td>\n",
              "      <td>-3.012900e+00</td>\n",
              "      <td>-1.717937e+00</td>\n",
              "      <td>-1.338237e+00</td>\n",
              "      <td>-1.408648e+00</td>\n",
              "      <td>-1.065812e+00</td>\n",
              "      <td>-1.975361e+00</td>\n",
              "      <td>-3.147691e+00</td>\n",
              "    </tr>\n",
              "    <tr>\n",
              "      <th>25%</th>\n",
              "      <td>-2.406047e-01</td>\n",
              "      <td>-3.322891e-01</td>\n",
              "      <td>-2.112236e-01</td>\n",
              "      <td>-2.920570e-01</td>\n",
              "      <td>-1.946193e-01</td>\n",
              "      <td>-7.780652e-01</td>\n",
              "      <td>-7.786108e-01</td>\n",
              "      <td>-3.410328e-01</td>\n",
              "      <td>-8.762324e-01</td>\n",
              "      <td>-8.041651e-01</td>\n",
              "      <td>-5.266319e-01</td>\n",
              "      <td>-6.020592e-01</td>\n",
              "      <td>-2.096840e-01</td>\n",
              "      <td>-8.476167e-01</td>\n",
              "      <td>-6.619051e-01</td>\n",
              "      <td>-7.831865e-01</td>\n",
              "      <td>-6.219151e-01</td>\n",
              "      <td>-7.616694e-01</td>\n",
              "    </tr>\n",
              "    <tr>\n",
              "      <th>50%</th>\n",
              "      <td>-2.036301e-01</td>\n",
              "      <td>-2.864116e-01</td>\n",
              "      <td>-1.812512e-01</td>\n",
              "      <td>-2.833225e-01</td>\n",
              "      <td>-7.867312e-03</td>\n",
              "      <td>-4.121528e-01</td>\n",
              "      <td>-4.087873e-01</td>\n",
              "      <td>3.952443e-01</td>\n",
              "      <td>-2.415496e-01</td>\n",
              "      <td>-2.522097e-01</td>\n",
              "      <td>-4.194809e-01</td>\n",
              "      <td>2.333622e-01</td>\n",
              "      <td>-2.096840e-01</td>\n",
              "      <td>-2.901958e-01</td>\n",
              "      <td>-2.171016e-01</td>\n",
              "      <td>-2.461977e-01</td>\n",
              "      <td>-5.345362e-03</td>\n",
              "      <td>0.000000e+00</td>\n",
              "    </tr>\n",
              "    <tr>\n",
              "      <th>75%</th>\n",
              "      <td>-9.557410e-02</td>\n",
              "      <td>-8.756252e-02</td>\n",
              "      <td>-1.140322e-01</td>\n",
              "      <td>-1.500168e-01</td>\n",
              "      <td>1.943613e-01</td>\n",
              "      <td>5.652764e-01</td>\n",
              "      <td>6.007311e-01</td>\n",
              "      <td>7.925161e-01</td>\n",
              "      <td>6.512643e-01</td>\n",
              "      <td>4.788417e-01</td>\n",
              "      <td>-8.561380e-04</td>\n",
              "      <td>8.476886e-01</td>\n",
              "      <td>2.722213e-01</td>\n",
              "      <td>6.910456e-01</td>\n",
              "      <td>2.712703e-01</td>\n",
              "      <td>4.250384e-01</td>\n",
              "      <td>3.931692e-01</td>\n",
              "      <td>6.643145e-01</td>\n",
              "    </tr>\n",
              "    <tr>\n",
              "      <th>max</th>\n",
              "      <td>1.092594e+01</td>\n",
              "      <td>9.223901e+00</td>\n",
              "      <td>9.593850e+00</td>\n",
              "      <td>1.177769e+01</td>\n",
              "      <td>4.750696e+00</td>\n",
              "      <td>4.438359e+00</td>\n",
              "      <td>4.538852e+00</td>\n",
              "      <td>9.090492e-01</td>\n",
              "      <td>3.546146e+00</td>\n",
              "      <td>3.729589e+00</td>\n",
              "      <td>5.552082e+00</td>\n",
              "      <td>1.145185e+00</td>\n",
              "      <td>2.806822e+00</td>\n",
              "      <td>2.583117e+00</td>\n",
              "      <td>4.153928e+00</td>\n",
              "      <td>4.367667e+00</td>\n",
              "      <td>4.686600e+00</td>\n",
              "      <td>2.431159e+00</td>\n",
              "    </tr>\n",
              "  </tbody>\n",
              "</table>\n",
              "</div>\n",
              "      <button class=\"colab-df-convert\" onclick=\"convertToInteractive('df-faf1eedc-3381-4d3c-b6eb-213c43452300')\"\n",
              "              title=\"Convert this dataframe to an interactive table.\"\n",
              "              style=\"display:none;\">\n",
              "        \n",
              "  <svg xmlns=\"http://www.w3.org/2000/svg\" height=\"24px\"viewBox=\"0 0 24 24\"\n",
              "       width=\"24px\">\n",
              "    <path d=\"M0 0h24v24H0V0z\" fill=\"none\"/>\n",
              "    <path d=\"M18.56 5.44l.94 2.06.94-2.06 2.06-.94-2.06-.94-.94-2.06-.94 2.06-2.06.94zm-11 1L8.5 8.5l.94-2.06 2.06-.94-2.06-.94L8.5 2.5l-.94 2.06-2.06.94zm10 10l.94 2.06.94-2.06 2.06-.94-2.06-.94-.94-2.06-.94 2.06-2.06.94z\"/><path d=\"M17.41 7.96l-1.37-1.37c-.4-.4-.92-.59-1.43-.59-.52 0-1.04.2-1.43.59L10.3 9.45l-7.72 7.72c-.78.78-.78 2.05 0 2.83L4 21.41c.39.39.9.59 1.41.59.51 0 1.02-.2 1.41-.59l7.78-7.78 2.81-2.81c.8-.78.8-2.07 0-2.86zM5.41 20L4 18.59l7.72-7.72 1.47 1.35L5.41 20z\"/>\n",
              "  </svg>\n",
              "      </button>\n",
              "      \n",
              "  <style>\n",
              "    .colab-df-container {\n",
              "      display:flex;\n",
              "      flex-wrap:wrap;\n",
              "      gap: 12px;\n",
              "    }\n",
              "\n",
              "    .colab-df-convert {\n",
              "      background-color: #E8F0FE;\n",
              "      border: none;\n",
              "      border-radius: 50%;\n",
              "      cursor: pointer;\n",
              "      display: none;\n",
              "      fill: #1967D2;\n",
              "      height: 32px;\n",
              "      padding: 0 0 0 0;\n",
              "      width: 32px;\n",
              "    }\n",
              "\n",
              "    .colab-df-convert:hover {\n",
              "      background-color: #E2EBFA;\n",
              "      box-shadow: 0px 1px 2px rgba(60, 64, 67, 0.3), 0px 1px 3px 1px rgba(60, 64, 67, 0.15);\n",
              "      fill: #174EA6;\n",
              "    }\n",
              "\n",
              "    [theme=dark] .colab-df-convert {\n",
              "      background-color: #3B4455;\n",
              "      fill: #D2E3FC;\n",
              "    }\n",
              "\n",
              "    [theme=dark] .colab-df-convert:hover {\n",
              "      background-color: #434B5C;\n",
              "      box-shadow: 0px 1px 3px 1px rgba(0, 0, 0, 0.15);\n",
              "      filter: drop-shadow(0px 1px 2px rgba(0, 0, 0, 0.3));\n",
              "      fill: #FFFFFF;\n",
              "    }\n",
              "  </style>\n",
              "\n",
              "      <script>\n",
              "        const buttonEl =\n",
              "          document.querySelector('#df-faf1eedc-3381-4d3c-b6eb-213c43452300 button.colab-df-convert');\n",
              "        buttonEl.style.display =\n",
              "          google.colab.kernel.accessAllowed ? 'block' : 'none';\n",
              "\n",
              "        async function convertToInteractive(key) {\n",
              "          const element = document.querySelector('#df-faf1eedc-3381-4d3c-b6eb-213c43452300');\n",
              "          const dataTable =\n",
              "            await google.colab.kernel.invokeFunction('convertToInteractive',\n",
              "                                                     [key], {});\n",
              "          if (!dataTable) return;\n",
              "\n",
              "          const docLinkHtml = 'Like what you see? Visit the ' +\n",
              "            '<a target=\"_blank\" href=https://colab.research.google.com/notebooks/data_table.ipynb>data table notebook</a>'\n",
              "            + ' to learn more about interactive tables.';\n",
              "          element.innerHTML = '';\n",
              "          dataTable['output_type'] = 'display_data';\n",
              "          await google.colab.output.renderOutput(dataTable, element);\n",
              "          const docLink = document.createElement('div');\n",
              "          docLink.innerHTML = docLinkHtml;\n",
              "          element.appendChild(docLink);\n",
              "        }\n",
              "      </script>\n",
              "    </div>\n",
              "  </div>\n",
              "  "
            ]
          },
          "metadata": {},
          "execution_count": 11
        }
      ]
    },
    {
      "cell_type": "code",
      "source": [
        "model = DBSCAN(eps=4, min_samples=36)\n",
        "model.fit(X_scaled)\n",
        "labels = model.labels_\n",
        "\n",
        "labels = pd.Series(labels, index = X_scaled.index, name='labels')\n",
        "\n",
        "labeled_df = X_scaled.join(labels)\n",
        "sns.scatterplot(x=('Phones (per 1000)'), y=('GDP ($ per capita)'), data=labeled_df, hue='labels')\n",
        "plt.show()\n",
        "\n",
        "print('Punti identificati come rumore:', (labels==-1).sum())"
      ],
      "metadata": {
        "colab": {
          "base_uri": "https://localhost:8080/",
          "height": 296
        },
        "id": "nQyE3z1DFyTZ",
        "outputId": "e119267e-3f73-4d47-d18d-3c0d615a495b"
      },
      "execution_count": 23,
      "outputs": [
        {
          "output_type": "display_data",
          "data": {
            "text/plain": [
              "<Figure size 432x288 with 1 Axes>"
            ],
            "image/png": "[encoded data removed]"
          },
          "metadata": {
            "needs_background": "light"
          }
        },
        {
          "output_type": "stream",
          "name": "stdout",
          "text": [
            "Punti identificati come rumore: 14\n"
          ]
        }
      ]
    },
    {
      "cell_type": "code",
      "source": [
        "from sklearn.cluster import KMeans\n",
        "from yellowbrick.cluster import KElbowVisualizer\n",
        "\n",
        "model = KMeans()  \n",
        "visualizer = KElbowVisualizer(model, k=range(2,10))\n",
        "visualizer = visualizer.fit(X)\n",
        "visualizer.show()"
      ],
      "metadata": {
        "colab": {
          "base_uri": "https://localhost:8080/",
          "height": 394
        },
        "id": "SFALglkUIjuT",
        "outputId": "49b06f09-e0c0-4069-e397-46252c64bab4"
      },
      "execution_count": 26,
      "outputs": [
        {
          "output_type": "display_data",
          "data": {
            "text/plain": [
              "<Figure size 576x396 with 2 Axes>"
            ],
            "image/png": "[encoded data removed]"
          },
          "metadata": {}
        },
        {
          "output_type": "execute_result",
          "data": {
            "text/plain": [
              "<matplotlib.axes._subplots.AxesSubplot at 0x7f7d4a82d250>"
            ]
          },
          "metadata": {},
          "execution_count": 26
        }
      ]
    }
  ]
}